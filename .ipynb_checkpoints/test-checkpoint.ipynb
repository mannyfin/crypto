{
 "cells": [
  {
   "cell_type": "code",
   "execution_count": 4,
   "metadata": {
    "collapsed": true
   },
   "outputs": [],
   "source": [
    "import numpy as np \n",
    "import pandas as pd \n",
    "import datetime\n",
    "import os"
   ]
  },
  {
   "cell_type": "code",
   "execution_count": 5,
   "metadata": {
    "collapsed": true
   },
   "outputs": [],
   "source": [
    "def dateparse (time_in_secs):    \n",
    "    return datetime.datetime.fromtimestamp(float(time_in_secs))"
   ]
  },
  {
   "cell_type": "code",
   "execution_count": 7,
   "metadata": {
    "collapsed": false
   },
   "outputs": [],
   "source": [
    "data = pd.read_csv('bitfinexUSD.csv.gz', parse_dates=True, date_parser=dateparse, index_col=[0])"
   ]
  },
  {
   "cell_type": "code",
   "execution_count": 9,
   "metadata": {
    "collapsed": false
   },
   "outputs": [
    {
     "data": {
      "text/html": [
       "<div>\n",
       "<table border=\"1\" class=\"dataframe\">\n",
       "  <thead>\n",
       "    <tr style=\"text-align: right;\">\n",
       "      <th></th>\n",
       "      <th>93.250000000000</th>\n",
       "      <th>12.671482050000</th>\n",
       "    </tr>\n",
       "    <tr>\n",
       "      <th>1364767668</th>\n",
       "      <th></th>\n",
       "      <th></th>\n",
       "    </tr>\n",
       "  </thead>\n",
       "  <tbody>\n",
       "    <tr>\n",
       "      <th>2013-03-31 18:07:49</th>\n",
       "      <td>93.3</td>\n",
       "      <td>80.628518</td>\n",
       "    </tr>\n",
       "    <tr>\n",
       "      <th>2013-03-31 18:08:13</th>\n",
       "      <td>100.0</td>\n",
       "      <td>20.000000</td>\n",
       "    </tr>\n",
       "    <tr>\n",
       "      <th>2013-03-31 18:08:14</th>\n",
       "      <td>100.0</td>\n",
       "      <td>1.000000</td>\n",
       "    </tr>\n",
       "    <tr>\n",
       "      <th>2013-03-31 18:08:16</th>\n",
       "      <td>100.0</td>\n",
       "      <td>5.900000</td>\n",
       "    </tr>\n",
       "    <tr>\n",
       "      <th>2013-03-31 18:08:19</th>\n",
       "      <td>100.0</td>\n",
       "      <td>29.833879</td>\n",
       "    </tr>\n",
       "  </tbody>\n",
       "</table>\n",
       "</div>"
      ],
      "text/plain": [
       "                     93.250000000000  12.671482050000\n",
       "1364767668                                           \n",
       "2013-03-31 18:07:49             93.3        80.628518\n",
       "2013-03-31 18:08:13            100.0        20.000000\n",
       "2013-03-31 18:08:14            100.0         1.000000\n",
       "2013-03-31 18:08:16            100.0         5.900000\n",
       "2013-03-31 18:08:19            100.0        29.833879"
      ]
     },
     "execution_count": 9,
     "metadata": {},
     "output_type": "execute_result"
    }
   ],
   "source": [
    "data.head()"
   ]
  },
  {
   "cell_type": "code",
   "execution_count": 10,
   "metadata": {
    "collapsed": false
   },
   "outputs": [
    {
     "data": {
      "text/html": [
       "<div>\n",
       "<table border=\"1\" class=\"dataframe\">\n",
       "  <thead>\n",
       "    <tr style=\"text-align: right;\">\n",
       "      <th></th>\n",
       "      <th>93.250000000000</th>\n",
       "      <th>12.671482050000</th>\n",
       "    </tr>\n",
       "    <tr>\n",
       "      <th>1364767668</th>\n",
       "      <th></th>\n",
       "      <th></th>\n",
       "    </tr>\n",
       "  </thead>\n",
       "  <tbody>\n",
       "    <tr>\n",
       "      <th>2016-12-22 07:43:17</th>\n",
       "      <td>853.40</td>\n",
       "      <td>2.431919</td>\n",
       "    </tr>\n",
       "    <tr>\n",
       "      <th>2016-12-22 07:43:17</th>\n",
       "      <td>853.48</td>\n",
       "      <td>0.077000</td>\n",
       "    </tr>\n",
       "    <tr>\n",
       "      <th>2016-12-22 07:43:17</th>\n",
       "      <td>853.48</td>\n",
       "      <td>0.118000</td>\n",
       "    </tr>\n",
       "    <tr>\n",
       "      <th>2016-12-22 07:43:17</th>\n",
       "      <td>853.48</td>\n",
       "      <td>1.500000</td>\n",
       "    </tr>\n",
       "    <tr>\n",
       "      <th>2016-12-22 07:43:18</th>\n",
       "      <td>853.48</td>\n",
       "      <td>0.119000</td>\n",
       "    </tr>\n",
       "  </tbody>\n",
       "</table>\n",
       "</div>"
      ],
      "text/plain": [
       "                     93.250000000000  12.671482050000\n",
       "1364767668                                           \n",
       "2016-12-22 07:43:17           853.40         2.431919\n",
       "2016-12-22 07:43:17           853.48         0.077000\n",
       "2016-12-22 07:43:17           853.48         0.118000\n",
       "2016-12-22 07:43:17           853.48         1.500000\n",
       "2016-12-22 07:43:18           853.48         0.119000"
      ]
     },
     "execution_count": 10,
     "metadata": {},
     "output_type": "execute_result"
    }
   ],
   "source": [
    "data.tail()"
   ]
  },
  {
   "cell_type": "code",
   "execution_count": null,
   "metadata": {
    "collapsed": true
   },
   "outputs": [],
   "source": []
  }
 ],
 "metadata": {
  "kernelspec": {
   "display_name": "Python [conda root]",
   "language": "python",
   "name": "conda-root-py"
  },
  "language_info": {
   "codemirror_mode": {
    "name": "ipython",
    "version": 3
   },
   "file_extension": ".py",
   "mimetype": "text/x-python",
   "name": "python",
   "nbconvert_exporter": "python",
   "pygments_lexer": "ipython3",
   "version": "3.5.2"
  }
 },
 "nbformat": 4,
 "nbformat_minor": 0
}
